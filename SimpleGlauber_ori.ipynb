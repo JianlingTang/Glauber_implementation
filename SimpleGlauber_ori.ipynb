{
 "cells": [
  {
   "cell_type": "markdown",
   "metadata": {},
   "source": [
    "# Monte Carlo Glauber Model "
   ]
  },
  {
   "cell_type": "markdown",
   "metadata": {},
   "source": [
    "---"
   ]
  },
  {
   "cell_type": "markdown",
   "metadata": {},
   "source": [
    "Nuclei are composed of an ensemble of tightly bound protons and neutrons, which are in turn, tightly bound ensembles of quarks and gluons.  If two nuclei are made to collide at very high energies, such as at the CERN Large Hadron Collider (LHC), they can vaporize into quarks and gluons and form a Quark Gluon Plasma.\n",
    "\n",
    "The left-hand figure below shows two Au (gold) nuclei just after a grazing collision in which only a fraction of the 197 protons and neutrons (collectively called *nucleons*) actually interact.  The right-hand side of the figure shows the substructure of the nucleons, which are composed of three valence quarks and the gluons that hold them together.\n",
    "\n"
   ]
  },
  {
   "cell_type": "markdown",
   "metadata": {},
   "source": [
    "Only some of the nucleons interact when the nuclei collide unless they hit perfectly head-on.  We define the offset of the two nuclei by an impact parameter, $b$, defined as the distance between the centers of the two nuclei as seen in a beam's-eye view.  This figure illustrates the two-dimensional geometric overlap region shaded green.\n",
    "\n"
   ]
  },
  {
   "cell_type": "markdown",
   "metadata": {},
   "source": [
    "The distribution of nucleons within a nucleus is not uniform.  The radial distribution for spherical nuclei is generally described by the Woods-Saxon density profile, given by\n",
    "\n",
    "$$\n",
    "\\rho(r) = \\frac{\\rho_0 (1 + wr^2/R^2)}{1 + \\exp((r-R)/a)}\n",
    "$$\n",
    "\n",
    "where $R$ is the average radius of the nucleus, and $a$, $w$ are density parameters.  These parameters come from empirical observations of electron scattering off various nuclei.  The three parameter Woods-Saxon distribution describes a central nucleon density suppression to minimize the Coulombic potential, a maximum nucleon density radius, and then a fall off to zero density at infinite radius.  Typical values for an assortment of nuclei is given in the Table.\n",
    "\n",
    "<table><tr><th>Nucleus</th><th>A</th><th>R (fm)</th><th>a (fm$^{-1}$)</th><th>w</th></tr>\n",
    "<tr><td>C</td><td>12</td><td>2.47</td><td>0</td><td>0</td></tr>\n",
    "<tr><td>O</td><td>16</td><td>2.608</td><td>0.513</td><td>-0.051</td></tr>\n",
    "<tr><td>Al</td><td>27</td><td>3.07</td><td>0.519</td><td>0</td></tr>\n",
    "<tr><td>S</td><td>32</td><td>3.458</td><td>0.61</td><td>0</td></tr>\n",
    "<tr><td>Ca</td><td>40</td><td>3.76</td><td>0.586</td><td>-0.161</td></tr>\n",
    "<tr><td>Ni</td><td>58</td><td>4.309</td><td>0.516</td><td>-0.1308</td></tr>\n",
    "<tr><td>Cu</td><td>63</td><td>4.2</td><td>0.596</td><td>0</td></tr>\n",
    "<tr><td>W</td><td>186</td><td>6.51</td><td>0.535</td><td>0</td></tr>\n",
    "<tr><td>Au</td><td>197</td><td>6.38</td><td>0.535</td><td>0</td></tr>\n",
    "<tr><td>Pb</td><td>208</td><td>6.68</td><td>0.546</td><td>0</td></tr>\n",
    "<tr><td>U</td><td>238</td><td>6.68</td><td>0.6</td><td>0</td></tr>\n",
    "</table>\n",
    "\n",
    "<table><tr><th>Nucleus</th><th>A</th><th>R (fm)</th><th>a (fm$^{-1}$)</th><th>w</th></tr>\n",
    "<tr><td>Pb</td><td>208</td><td>6.68</td><td>0.546</td><td>0</td></tr>\n",
    "</table>"
   ]
  },
  {
   "cell_type": "code",
   "execution_count": 2,
   "metadata": {},
   "outputs": [
    {
     "name": "stdout",
     "output_type": "stream",
     "text": [
      "Populating the interactive namespace from numpy and matplotlib\n"
     ]
    }
   ],
   "source": [
    "%pylab inline\n",
    "import numpy as np\n",
    "import matplotlib.pyplot as plt\n",
    "import pylab as p"
   ]
  },
  {
   "cell_type": "markdown",
   "metadata": {},
   "source": [
    "**(a)** Plot the Woods-Saxon distribution $\\rho(r)$ and $r^2\\rho(r)$ for gold from $r$ = 0 fm to $r$ = 18 fm."
   ]
  },
  {
   "cell_type": "code",
   "execution_count": 3,
   "metadata": {},
   "outputs": [
    {
     "data": {
      "image/png": "[encoded data removed]",
      "text/plain": [
       "<Figure size 432x288 with 1 Axes>"
      ]
     },
     "metadata": {
      "needs_background": "light"
     },
     "output_type": "display_data"
    }
   ],
   "source": [
    "rho = lambda r, w, a, R, A: (1+w*r**2/R**2)/(1+np.exp((r-R)/a))\n",
    "\n",
    "r = np.arange(0.,18.,0.1)\n",
    "w = 0.\n",
    "a = 0.546\n",
    "R = 6.68\n",
    "A = 208\n",
    "\n",
    "fr = r**2*rho(r,w,a,R,A)\n",
    "plt.plot(r,rho(r,w,a,R,A),'b-',label=r'$\\rho(r)$')\n",
    "#Scale it so it fits on the same plot.  It's the shape that matters\n",
    "plt.plot(r,fr/fr.max(),'g-',label=r'$r^2\\rho(r)$')\n",
    "\n",
    "plt.ylim(0.,1.2)\n",
    "plt.legend(loc=\"best\",fontsize=20)\n",
    "plt.show()"
   ]
  },
  {
   "cell_type": "markdown",
   "metadata": {},
   "source": [
    "**(b)** Let’s create a realistic distribution for two lead ions, A, and B. \n",
    "\n",
    "* First, distribute 208 nucleons for each nucleus using the Woods-Saxon distribution multiplied by the spherical coordinate weighting factor, $r^2$.  Use the `distribute1d` function from the tour to sample $r$ values numerically.  \n",
    "\n",
    "* Then, use uniform sampling of a number $u$ from [0,1) scaled by $2\\pi$ to obtain the azimuthal angle $\\phi$ = 2$\\pi u$ \n",
    "\n",
    "* Followed by uniform sampling of another number $v$ = [0,1), transformed to $\\theta = \\cos^{-1}(2v - 1)$ to obtain the polar angle $\\theta$.  \n",
    "\n",
    "(Note that this is the physics definition of azimuthal and polar angles, not the math definition.)\n",
    "\n",
    "\n",
    "The reason for these transformations is that the volume element $dV = r^2\\sin\\theta dr d\\theta d\\phi$ has both radial and polar angle dependence.  If you do not sample in this way, your results will be bunched up at the poles and toward the outer edges of the sphere."
   ]
  },
  {
   "cell_type": "code",
   "execution_count": 4,
   "metadata": {},
   "outputs": [],
   "source": [
    "from scipy.integrate import trapz,cumtrapz\n",
    "def distribute1D(x,prob,N):\n",
    "    \"\"\"takes any distribution which is directly proportional \n",
    "    to the number of particles, and returns data that is \n",
    "    statistically the same as the input data.\"\"\"\n",
    "    CDF = cumtrapz(prob)/np.sum(prob)\n",
    "    xsamples = np.zeros(N,float)\n",
    "    for i in range(0,N):\n",
    "        r = np.random.ranf()\n",
    "        xsamples[i] = x[CDF.searchsorted(r)]\n",
    "    return xsamples"
   ]
  },
  {
   "cell_type": "code",
   "execution_count": 5,
   "metadata": {},
   "outputs": [],
   "source": [
    "A = 208\n",
    "nucA = np.zeros(shape((A,A,A)))\n",
    "rA = distribute1D(r,r**2*rho(r,w,a,R,A),A)\n",
    "phiA = 2*np.pi*np.random.random_sample(A)\n",
    "thA = np.arccos(2*np.random.random_sample(A)-1.)"
   ]
  },
  {
   "cell_type": "code",
   "execution_count": 6,
   "metadata": {},
   "outputs": [],
   "source": [
    "B = 208\n",
    "nucB = np.zeros(shape((B,B,B)))\n",
    "rB = distribute1D(r,r**2*rho(r,w,a,R,B),B)\n",
    "phiB = 2*np.pi*np.random.random_sample(B)\n",
    "thB = np.arccos(2*np.random.random_sample(B)-1.)"
   ]
  },
  {
   "cell_type": "markdown",
   "metadata": {},
   "source": [
    "**(c)** Once you have the spherical coordinates for each of the nucleons in each nucleus, convert to cartesian coordinates.   In nuclear collisions, the beam axis along which the particles travel/collide is the $z$ axis.  The polar angle $\\theta$ is measured *up* from the positive-$z$ axis and the azimuthal angle $\\phi$ is measured *up* from the positive $x$-axis.\n",
    "\n",
    "Plot the nuclei in 2d for two different planar projections: the side view ($x$-$z$) and the beam's eye view ($x$-$y$) side-by-side.  \n",
    "\n",
    "Let the nucleons have radius of 1 fm, make the nucleons from each nucleus a different color, and displace them by a randomly chosen impact parameter $b$ between 0 and 18 fm.  For example, shift ion A by $b/2$ to the left along the $x$-axis and B by $b/2$ to the right along the x-axis."
   ]
  },
  {
   "cell_type": "code",
   "execution_count": 7,
   "metadata": {},
   "outputs": [
    {
     "data": {
      "image/png": "[encoded data removed]",
      "text/plain": [
       "<Figure size 432x288 with 1 Axes>"
      ]
     },
     "metadata": {
      "needs_background": "light"
     },
     "output_type": "display_data"
    }
   ],
   "source": [
    "R = 15 \n",
    "listb = []\n",
    "\n",
    "for i in range(100000):\n",
    "    b = R*np.sqrt(np.random.random())\n",
    "    listb.append(b)\n",
    "\n",
    "plt.hist(listb,bins = 500,color = 'red')\n",
    "plt.xlabel('b(fm)')\n",
    "plt.ylabel(r'$\\frac{d\\sigma}{db}$')\n",
    "plt.title('Impact parater distribution of Pb-Pb')\n",
    "plt.show()"
   ]
  },
  {
   "cell_type": "code",
   "execution_count": 11,
   "metadata": {},
   "outputs": [],
   "source": [
    "for i in range(50):\n",
    "    #loop through 50 times\n",
    "    #Initialize\n",
    "    #b>15\n",
    "    sig = 42.*1/10. #mb converted to square fm\n",
    "    d = np.sqrt(sig/np.pi)\n",
    "    R = 15 \n",
    "    b  = R * np.sqrt(np.random.random())\n",
    "    if b >15 :\n",
    "        continue \n",
    "    xA = rA*np.cos(phiA)*np.sin(thA)\n",
    "    yA = rA*np.sin(phiA)*np.sin(thA)\n",
    "    xB = rB*np.cos(phiB)*np.sin(thB)\n",
    "    yB = rB*np.sin(phiB)*np.sin(thB)\n",
    "    b  = R * np.sqrt(np.random.random())\n",
    "    xA = xA - b/2\n",
    "    xB = xB + b/2\n",
    "    #Create the masks for identifying participating nucleons\n",
    "    Apart = np.zeros(A,dtype=bool)\n",
    "    Bpart = np.zeros(B,dtype=bool)\n",
    "    for i in range(A):\n",
    "        for j in range(B):\n",
    "            if np.sqrt((xA[i]-xB[j])**2+(yA[i]-yB[j])**2) <= d:\n",
    "                Apart[i] = True\n",
    "                Bpart[j] = True\n",
    "\n",
    "    maskA = Apart == True\n",
    "    maskB = Bpart == True\n",
    "    X = np.concatenate([xA[maskA],xB[maskB]])\n",
    "    Y = np.concatenate([yA[maskA],yB[maskB]])\n",
    "    meanX = np.mean(X)\n",
    "    meanY = np.mean(Y)\n",
    "    Yp = Y-meanY\n",
    "    Xp = X-meanX\n",
    "    Npart = len(X)\n",
    "    if Npart == 0:\n",
    "        continue\n",
    "    \n",
    "  #calculate r and phi in the new polar coordinate:\n",
    "    rp= np.sqrt(Xp**2+Yp**2)\n",
    "    phi=np.arctan2(Yp,Xp)\n",
    "    #essentricity \n",
    "    e2_1 =  rp**2*np.cos(2*phi)\n",
    "    e2_2 =  rp**2*np.sin(2*phi)\n",
    "    e2_3 =  rp**2\n",
    "    part1_e2_ave=np.mean(e2_1)\n",
    "    part2_e2_ave=np.mean(e2_2)\n",
    "    part3_e2_ave=np.mean(e2_3)\n",
    "    e2   =  np.sqrt(part1_e2_ave**2+part2_e2_ave**2)/part3_e2_ave\n",
    "    e2_ar = np.append(empty, e2)\n",
    " \n",
    "    p1   =  rp**2*np.cos(3*phi)\n",
    "    p2   =  rp**2*np.sin(3*phi)\n",
    "    p3   =  rp**2\n",
    "    part1_ave=np.mean(p1)\n",
    "    part2_ave=np.mean(p2)\n",
    "    part3_ave=np.mean(p3)\n",
    "    e3   =  np.sqrt(part1_ave**2+part2_ave**2)/part3_ave\n",
    "    print(e3)"
   ]
  },
  {
   "cell_type": "markdown",
   "metadata": {},
   "source": [
    "Descirbe the shape :\n",
    "What plot against what?\n",
    "Size of the collision one vs centrality \n",
    "4-6 pages "
   ]
  },
  {
   "cell_type": "code",
   "execution_count": null,
   "metadata": {},
   "outputs": [],
   "source": [
    "Uncertainty: LHC uncertianties :"
   ]
  },
  {
   "cell_type": "markdown",
   "metadata": {},
   "source": [
    "    fig = figure(1,(10,5))\n",
    "    plt.subplot(1,2,1)\n",
    "    plt.xlim(-18.,18.)\n",
    "    plt.ylim(-18.,18.)\n",
    "    plt.xlabel(\"x (fm)\",fontsize=20)\n",
    "    plt.ylabel(\"y (fm)\",fontsize=20)\n",
    "    plt.plot(xA,yA,\"bo\",markersize=10,alpha=0.2)\n",
    "    plt.plot(xB,yB,\"ro\",markersize=10,alpha=0.2)\n",
    "    #Participants\n",
    "    plt.plot(xA[maskA],yA[maskA],\"mo\",markersize=10)\n",
    "    plt.plot(xB[maskB],yB[maskB],\"yo\",markersize=10)\n",
    "    plt.show()               \n",
    "\n",
    "    "
   ]
  },
  {
   "cell_type": "code",
   "execution_count": null,
   "metadata": {},
   "outputs": [],
   "source": [
    "sig = 42.*1/10. #mb converted to square fm\n",
    "d = np.sqrt(sig/np.pi)\n",
    "\n",
    "#print d\n",
    "\n",
    "#Create the masks for identifying participating nucleons\n",
    "Apart = np.zeros(A,dtype=bool)\n",
    "Bpart = np.zeros(B,dtype=bool)\n",
    "for i in range(A):\n",
    "    for j in range(B):\n",
    "        if np.sqrt((xA[i]-xB[j])**2+(yA[i]-yB[j])**2+(zA[i]-zB[j])**2) <= d:\n",
    "            Apart[i] = True\n",
    "            Bpart[j] = True\n",
    "\n",
    "maskA = Apart == True\n",
    "maskB = Bpart == True\n",
    "\n",
    "fig = figure(1,(10,5))\n",
    "plt.subplot(1,2,1)\n",
    "plt.xlim(-18.,18.)\n",
    "plt.ylim(-18.,18.)\n",
    "plt.xlabel(\"x (fm)\",fontsize=20)\n",
    "plt.ylabel(\"y (fm)\",fontsize=20)\n",
    "plt.plot(xA,yA,\"bo\",markersize=10,alpha=0.2)\n",
    "plt.plot(xB,yB,\"ro\",markersize=10,alpha=0.2)\n",
    "#Participants\n",
    "plt.plot(xA[maskA],yA[maskA],\"mo\",markersize=10)\n",
    "plt.plot(xB[maskB],yB[maskB],\"yo\",markersize=10)\n",
    "\n",
    "plt.subplot(1,2,2)\n",
    "plt.xlim(-18.,18.)\n",
    "plt.ylim(-18.,18.)\n",
    "plt.xlabel(\"z (fm)\",fontsize=20)\n",
    "plt.ylabel(\"x (fm)\",fontsize=20)\n",
    "plt.arrow(-4,-b/2,5,0,head_width=1, head_length=1,fc='k', ec='k')\n",
    "plt.arrow(4,b/2,-5,0,head_width=1, head_length=1,fc='k', ec='k')\n",
    "plt.plot(zA-b,xA,\"bo\",markersize=10,alpha=0.2)\n",
    "plt.plot(zB+b,xB,\"ro\",markersize=10,alpha=0.2)\n",
    "#Participants\n",
    "plt.plot(zA[maskA]-b,xA[maskA],\"mo\",markersize=10)\n",
    "plt.plot(zB[maskB]+b,xB[maskB],\"yo\",markersize=10)\n",
    "\n",
    "plt.show()               \n"
   ]
  },
  {
   "cell_type": "code",
   "execution_count": null,
   "metadata": {},
   "outputs": [],
   "source": [
    "sig = 42.*1/10. #mb converted to square fm\n",
    "d = np.sqrt(sig/np.pi)\n",
    "Apart = np.zeros(A,dtype=bool)\n",
    "Bpart = np.zeros(B,dtype=bool)\n",
    "for j in range(len(b)):\n",
    "    xA_ = rA*np.cos(phiA)*np.sin(thA)\n",
    "    yA = rA*np.sin(phiA)*np.sin(thA)\n",
    "    zA = rA*np.cos(thA)\n",
    "\n",
    "    xB_ = rB*np.cos(phiB)*np.sin(thB)\n",
    "    yB = rB*np.sin(phiB)*np.sin(thB)\n",
    "    zB = rB*np.cos(thB)\n",
    "    #Offset nucleons by our random impact parameter\n",
    "    xA=xA_ - b[k]/2\n",
    "    xB=xB_ + b[k]/2\n",
    "    \n",
    "for i in range(A):\n",
    "    for j in range(B):\n",
    "        if np.sqrt((xA[i]-xB[j])**2+(yA[i]-yB[j])**2+(zA[i]-zB[j])**2) <= d:\n",
    "            Apart[i] = True\n",
    "            Bpart[j] = True\n",
    "\n",
    "    maskA = Apart == True\n",
    "    maskB = Bpart == True\n"
   ]
  },
  {
   "cell_type": "code",
   "execution_count": null,
   "metadata": {},
   "outputs": [],
   "source": []
  },
  {
   "cell_type": "markdown",
   "metadata": {},
   "source": [
    "**(d)** Since we cannot measure the impact parameter directly for each collision, we need a method to estimate the geometric overlap so that we can categorize the collisions based on the number of nucleons participating in each collision and how many nucleon-nucleon collisions occurred.   Nucleons that pass close enough to each other will experience an inelastic collision that will rip the quarks right out of the nucleon.  The distance that dictates when an inelastic collision occurs is governed by the interaction cross-section, which has been measured very carefully at proton colliders.  The inelastic cross-section at collision energy of 200 GeV is $\\sigma_{inel}$ = 42 mb (1 mb = 1 millibarn = 10$^{-24}$ cm$^2$ = 10$^{-31}$ m$^2$), defining an overlap area between two nucleons.  \n",
    "\n",
    "Make an `interact` object for your two plots in part (c) that let's you vary the impact parameter from 0 to 18 fm.  On the plots, change the color of the nucleons that \"participate\" in interactions to something else. (Let the participating nucleons in nucleus A be one color and those in nucleus B be another color.) \n",
    "\n",
    "To do this, you’ll need to find all the nucleons from ion A that are within a distance, $D$, of a nucleon from ion B using $D = \\sqrt{\\sigma_{inel}/\\pi}$, where $\\sigma_{inel}$ is the cross sectional area measured in millibarns.  Don’t forget to convert the millibarns to fm$^{2}$."
   ]
  },
  {
   "cell_type": "code",
   "execution_count": null,
   "metadata": {},
   "outputs": [],
   "source": [
    "from IPython.html.widgets import interact, interactive"
   ]
  },
  {
   "cell_type": "code",
   "execution_count": 16,
   "metadata": {},
   "outputs": [
    {
     "ename": "NameError",
     "evalue": "name 'interact' is not defined",
     "output_type": "error",
     "traceback": [
      "\u001b[1;31m---------------------------------------------------------------------------\u001b[0m",
      "\u001b[1;31mNameError\u001b[0m                                 Traceback (most recent call last)",
      "\u001b[1;32m<ipython-input-16-529fee28cbaf>\u001b[0m in \u001b[0;36m<module>\u001b[1;34m\u001b[0m\n\u001b[0;32m     72\u001b[0m \u001b[1;33m\u001b[0m\u001b[0m\n\u001b[0;32m     73\u001b[0m \u001b[1;33m\u001b[0m\u001b[0m\n\u001b[1;32m---> 74\u001b[1;33m \u001b[0mv\u001b[0m \u001b[1;33m=\u001b[0m \u001b[0minteract\u001b[0m\u001b[1;33m(\u001b[0m\u001b[0mGlauber\u001b[0m\u001b[1;33m,\u001b[0m\u001b[0mb\u001b[0m\u001b[1;33m=\u001b[0m\u001b[1;33m(\u001b[0m\u001b[1;36m0.\u001b[0m\u001b[1;33m,\u001b[0m\u001b[1;36m18.\u001b[0m\u001b[1;33m,\u001b[0m\u001b[1;36m0.5\u001b[0m\u001b[1;33m)\u001b[0m\u001b[1;33m,\u001b[0m\u001b[0mA\u001b[0m\u001b[1;33m=\u001b[0m\u001b[1;33m(\u001b[0m\u001b[1;36m0\u001b[0m\u001b[1;33m,\u001b[0m\u001b[1;36m10\u001b[0m\u001b[1;33m)\u001b[0m\u001b[1;33m,\u001b[0m\u001b[0mB\u001b[0m\u001b[1;33m=\u001b[0m\u001b[1;33m(\u001b[0m\u001b[1;36m0\u001b[0m\u001b[1;33m,\u001b[0m\u001b[1;36m10\u001b[0m\u001b[1;33m)\u001b[0m\u001b[1;33m)\u001b[0m\u001b[1;33m\u001b[0m\u001b[1;33m\u001b[0m\u001b[0m\n\u001b[0m",
      "\u001b[1;31mNameError\u001b[0m: name 'interact' is not defined"
     ]
    }
   ],
   "source": [
    "def Glauber(b=6.,A=6,B=6):\n",
    "\n",
    "    nuc = np.array([12, 16, 27, 32, 40, 58, 63, 186, 197, 208, 238])\n",
    "    lab = ['C','O','Al','S','Ca','Ni','Cu','W','Au','Pb','U']\n",
    "    w = np.array([0,-0.051,0.,0.,-0.161,-0.1308,0.,0.,0.,0.,0.])\n",
    "    R = np.array([2.47, 2.608, 3.07,3.458, 3.76, 4.309, 4.2, 6.51, 6.38, 6.68, 6.68])\n",
    "    a = np.array([0.,0.513,0.519,0.61,0.586,0.516,0.596, 0.535, 0.535, 0.546, 0.6])\n",
    "\n",
    "    rA = distribute1D(r,r**2*rho(r,w[A],a[A],R[A],nuc[A]),nuc[A])\n",
    "    phiA = 2*np.pi*np.random.random_sample(nuc[A])\n",
    "    thA = np.arccos(2*np.random.random_sample(nuc[A])-1.)\n",
    "\n",
    "    \n",
    "    rB = distribute1D(r,r**2*rho(r,w[B],a[B],R[B],nuc[B]),nuc[B])\n",
    "    phiB = 2*np.pi*np.random.random_sample(nuc[B])\n",
    "    thB = np.arccos(2*np.random.random_sample(nuc[B])-1.)\n",
    "    \n",
    "    xA = rA*np.cos(phiA)*np.sin(thA)\n",
    "    yA = rA*np.sin(phiA)*np.sin(thA)\n",
    "    zA = rA*np.cos(thA)\n",
    "\n",
    "    xB = rB*np.cos(phiB)*np.sin(thB)\n",
    "    yB = rB*np.sin(phiB)*np.sin(thB)\n",
    "    zB = rB*np.cos(thB)\n",
    "\n",
    "    #offset by impact parameter\n",
    "    xA = xA - b/2\n",
    "    xB = xB + b/2\n",
    "\n",
    "    #Create the masks for identifying participating nucleons\n",
    "    Apart = np.zeros(nuc[A],dtype=bool)\n",
    "    Bpart = np.zeros(nuc[B],dtype=bool)\n",
    "    for i in range(nuc[A]):\n",
    "        for j in range(nuc[B]):\n",
    "            if np.sqrt((xA[i]-xB[j])**2+(yA[i]-yB[j])**2+(zA[i]-zB[j])**2) <= d:\n",
    "                Apart[i] = True\n",
    "                Bpart[j] = True\n",
    "\n",
    "    maskA = Apart == True\n",
    "    maskB = Bpart == True\n",
    "\n",
    "    fig = figure(1,(10,5))\n",
    "    plt.subplot(1,2,1)\n",
    "    plt.xlim(-18.,18.)\n",
    "    plt.ylim(-18.,18.)\n",
    "    plt.xlabel(\"x (fm)\",fontsize=20)\n",
    "    plt.ylabel(\"y (fm)\",fontsize=20)\n",
    "    plt.plot(xA,yA,\"bo\",markersize=10,alpha=0.2)\n",
    "    plt.plot(xB,yB,\"ro\",markersize=10,alpha=0.2)\n",
    "    #Participants\n",
    "    plt.plot(xA[maskA],yA[maskA],\"mo\",markersize=10)\n",
    "    plt.plot(xB[maskB],yB[maskB],\"yo\",markersize=10)\n",
    "    plt.text(-15.,15.,\"%s+%s\"%(lab[A],lab[B]),fontsize=20)\n",
    "    plt.text(-15.,12.,\"b=%.2f\"%b,fontsize=20)\n",
    "    \n",
    "    plt.subplot(1,2,2)\n",
    "    plt.xlim(-18.,18.)\n",
    "    plt.ylim(-18.,18.)\n",
    "    plt.xlabel(\"z (fm)\",fontsize=20)\n",
    "    plt.ylabel(\"x (fm)\",fontsize=20)\n",
    "    plt.arrow(-4,-b/2,5,0,head_width=1, head_length=1,fc='k', ec='k')\n",
    "    plt.arrow(4,b/2,-5,0,head_width=1, head_length=1,fc='k', ec='k')\n",
    "    plt.plot(zA-10,xA,\"bo\",markersize=10,alpha=0.2)\n",
    "    plt.plot(zB+10,xB,\"ro\",markersize=10,alpha=0.2)\n",
    "    #Participants\n",
    "    plt.plot(zA[maskA]-10,xA[maskA],\"mo\",markersize=10)\n",
    "    plt.plot(zB[maskB]+10,xB[maskB],\"yo\",markersize=10)\n",
    "    plt.text(-15.,15.,\"%s+%s\"%(lab[A],lab[B]),fontsize=20)\n",
    "    plt.text(-15.,12.,\"b=%.2f\"%b,fontsize=20)\n",
    "    \n",
    "    plt.show()\n",
    "\n",
    "\n",
    "v = interact(Glauber,b=(0.,18.,0.5),A=(0,10),B=(0,10))\n"
   ]
  },
  {
   "cell_type": "markdown",
   "metadata": {},
   "source": [
    "---\n"
   ]
  }
 ],
 "metadata": {
  "kernelspec": {
   "display_name": "Python 3",
   "language": "python",
   "name": "python3"
  },
  "language_info": {
   "codemirror_mode": {
    "name": "ipython",
    "version": 3
   },
   "file_extension": ".py",
   "mimetype": "text/x-python",
   "name": "python",
   "nbconvert_exporter": "python",
   "pygments_lexer": "ipython3",
   "version": "3.7.3"
  }
 },
 "nbformat": 4,
 "nbformat_minor": 1
}
