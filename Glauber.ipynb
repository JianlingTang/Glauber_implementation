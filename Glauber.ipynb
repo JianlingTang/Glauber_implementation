{
  "nbformat": 4,
  "nbformat_minor": 0,
  "metadata": {
    "colab": {
      "name": "Glauber(17/7).ipynb",
      "provenance": [],
      "collapsed_sections": [],
      "authorship_tag": "ABX9TyPOTQbD8IxBsGOb7M/ta/EZ",
      "include_colab_link": true
    },
    "kernelspec": {
      "name": "python3",
      "display_name": "Python 3"
    }
  },
  "cells": [
    {
      "cell_type": "markdown",
      "metadata": {
        "id": "view-in-github",
        "colab_type": "text"
      },
      "source": [
        "<a href=\"https://colab.research.google.com/github/JianlingTang/Glauber_implementation/blob/master/Glauber.ipynb\" target=\"_parent\"><img src=\"https://colab.research.google.com/assets/colab-badge.svg\" alt=\"Open In Colab\"/></a>"
      ]
    },
    {
      "cell_type": "code",
      "metadata": {
        "id": "xR1UYLDmFAjm",
        "colab_type": "code",
        "colab": {}
      },
      "source": [
        "import numpy as np\n",
        "import matplotlib.pyplot as plt\n",
        "import math\n",
        "import random\n",
        "import statistics as stat\n",
        "\n",
        "\n",
        "dr=0.554\n",
        "w=0\n",
        "R=6.62\n",
        "a_0=0.546\n",
        "A=207.2 \n",
        "area=70\n",
        "ballD=1.49271\n",
        "d=7.5\n",
        "rho0=3*A/(4*math.pi*R**3)\n",
        "\n",
        "def density(r):\n",
        "  rho=rho0*((1+w*(r/R)**2)/(1+math.exp((r-R)/a_0)))\n",
        "  return rho\n",
        "\n",
        "def Distance(a,b,c,d):\n",
        "  one=a-b\n",
        "  two=c-d\n",
        "  Distance=math.sqrt(one**2+two**2)\n",
        "  return Distance\n",
        "\n",
        "def cov(x,y):\n",
        "  sigma_xy=sum((a - sigma_x) * (b - sigma_y) for (a,b) in zip(x,y)) / len(x)\n",
        "  return sigma_xy\n",
        "liste2=[]\n",
        "liste3=[]\n",
        "listNpart=[]\n",
        "listb=[]\n",
        "listr = [4.8, 5.3, 4.4, 5.6, 2.8, 3.8, 6. , 4.7, 5. , 4.7, 3.6, 3.9, 7.4,\n",
        "       3. , 6.3, 5.8, 6.3, 4.5, 5.9, 5.5, 5.4, 6.5, 5.9, 4.7, 5.1, 3.4,\n",
        "       3.8, 5.8, 5.4, 3.7, 4.9, 6.9, 4.5, 4.7, 5.3, 5.5, 4.6, 8.1, 3.9,\n",
        "       6.4, 2.6, 6.1, 4.1, 4.9, 5.9, 5.7, 6.1, 6.3, 5.4, 2.3, 5.4, 4.6,\n",
        "       4.5, 4.6, 6.7, 5.8, 6.8, 8.3, 6.4, 5.4, 5.3, 4.7, 4.9, 7.1, 8. ,\n",
        "       3.7, 4.2, 6.1, 4.5, 5.7, 2.1, 4.9, 5. , 5.5, 5.1, 6.6, 3. , 1.6,\n",
        "       6.6, 5.1, 6.1, 6.8, 4.2, 4.8, 2.8, 5.1, 3.2, 6. , 6.2, 8.3, 5.8,\n",
        "       3. , 4.8, 5.9, 4. , 5. , 5.8, 7.1, 6.8, 2.8, 1.5, 3.6, 3.2, 3.3,\n",
        "       6.5, 4. , 4.9, 4.9, 4.3, 2. , 6.5, 6.3, 2.4, 3.4, 7.2, 5.2, 3.1,\n",
        "       4.2, 6. , 6.4, 5.1, 6.7, 7.1, 7.2, 4.6, 5.3, 6.5, 5.4, 5.2, 6.8,\n",
        "       5.7, 6.5, 6.8, 0.8, 7.5, 5.5, 7.7, 4.9, 6. , 4.6, 4.6, 2.1, 4.2,\n",
        "       6.3, 2.7, 3.5, 3.8, 5.2, 4.1, 5. , 5.3, 8.5, 3. , 5.4, 5.6, 9.2,\n",
        "       7.2, 5.6, 6.2, 5.4, 4.5, 6.9, 6.4, 4.6, 4.5, 6.4, 3.2, 6.4, 3.2,\n",
        "       4.7, 3.1, 5.8, 4.8, 5.5, 5.5, 5.8, 6.5, 4.6, 2. , 8. , 6.4, 4.8,\n",
        "       7.5, 7. , 4.2, 5.1, 7.2, 5.8, 6.8, 7.4, 5.8, 5.4, 3.4, 6.8, 2.7,\n",
        "       5.2, 6.7, 4.4, 3.5, 2.4, 5.3, 6.9, 7.3, 3.2, 6.8, 5.9, 5.2, 1. ]"
      ],
      "execution_count": 1,
      "outputs": []
    },
    {
      "cell_type": "code",
      "metadata": {
        "id": "Xcm5n7boFDHr",
        "colab_type": "code",
        "colab": {}
      },
      "source": [
        "for j in range(100000):\n",
        "  listx1_par=[]\n",
        "  listx2_par=[]\n",
        "  listy1_par=[]\n",
        "  listy2_par=[]\n",
        "  listx1=[]\n",
        "  listy1=[]\n",
        "  listx2=[]\n",
        "  listy2=[]\n",
        "  listx_par=[]\n",
        "  listy_par=[]\n",
        "  Npart=0\n",
        "  b=100\n",
        "\n",
        "  while Npart<2:\n",
        "    while b>2*d:\n",
        "      c1_x=0\n",
        "      c1_y=0\n",
        "      c2_x=random.uniform(-2*d,2*d)\n",
        "      c2_y=random.uniform(-2*d,2*d)\n",
        "      b=math.sqrt((c1_x-c2_x)**2+(c1_y-c2_y)**2)\n",
        "\n",
        "    for r in listr:\n",
        "      #discard number(r) function , use 208 radii directly:\n",
        "        phi1=random.uniform(0,2*math.pi)\n",
        "        theta1=random.uniform(0,math.pi)\n",
        "        phi2=random.uniform(0,2*math.pi)\n",
        "        theta2=random.uniform(0,math.pi)\n",
        "          \n",
        "        x1=c1_x+r*math.sin(theta1)*math.cos(phi1)\n",
        "        y1=c1_y+r*math.sin(theta1)*math.sin(phi1)\n",
        "        x2=c2_x+r*math.sin(theta2)*math.cos(phi2)\n",
        "        y2=c2_y+r*math.sin(theta2)*math.sin(phi2)\n",
        "\n",
        "        listx1.append(x1)\n",
        "        listx2.append(x2)\n",
        "        listy1.append(y1)\n",
        "        listy2.append(y2)\n",
        "  #print(len(listx1))     \n",
        "\n",
        "    for n1 in range(len(listx1)):\n",
        "      for n2 in range(len(listx2)):\n",
        "        an=listx1[n1]\n",
        "        bn=listx2[n2]\n",
        "        cn=listy1[n1]\n",
        "        dn=listy2[n2]\n",
        "        Dn=math.sqrt((an-bn)**2+(cn-dn)**2)\n",
        "       \n",
        "        if Dn <ballD:\n",
        "          listx1_par.append(an)\n",
        "          listy1_par.append(cn)\n",
        "          break\n",
        "    \n",
        "         \n",
        "\n",
        "    for m2 in range(len(listx2)):\n",
        "      for m1 in range(len(listx1)):\n",
        "        am=listx1[m1]\n",
        "        bm=listx2[m2]\n",
        "        cm=listy1[m1]\n",
        "        dm=listy2[m2]\n",
        "        Dm=math.sqrt((am-bm)**2+(cm-dm)**2)\n",
        "        \n",
        "        if Dm<ballD:\n",
        "          listx2_par.append(listx2[m2])\n",
        "          listy2_par.append(listy2[m2])\n",
        "          break\n",
        "           \n",
        "\n",
        "\n",
        "        \n",
        "    Npart=len(listx1_par)+len(listx2_par)\n",
        "  listNpart.append(Npart)  \n",
        "  listb.append(b)\n",
        "\n",
        "  # participant x, y as a whole\n",
        "  listx_par=listx1_par+listx2_par\n",
        "  listy_par=listy1_par+listy2_par\n",
        "  x_ave=stat.mean(listx_par)\n",
        "  y_ave=stat.mean(listy_par)\n",
        "\n",
        "\n",
        "  #shift coordinate to the center of mass\n",
        "  listxprime=[]\n",
        "  listyprime=[]\n",
        "  listrprime=[]\n",
        "  listphi=[]\n",
        "  for x in listx_par:\n",
        "    listxprime.append(x-x_ave)\n",
        "  for y in listy_par:\n",
        "    listyprime.append(y-y_ave)\n",
        "\n",
        "  #calculate r and phi in the new polar coordinate:\n",
        "  for n in range(0,len(listxprime)):\n",
        "    rprime=np.sqrt(listxprime[n]**2+listyprime[n]**2)\n",
        "    listrprime.append(rprime)\n",
        "    phi=math.atan2(listyprime[n],listxprime[n])\n",
        "    listphi.append(phi)\n",
        " #another way to calculate epsilon 2\n",
        "  list1_e2=[]\n",
        "  list2_e2=[]\n",
        "  list3_e2=[]\n",
        "  for n in range(Npart):\n",
        "    part1_e2=listrprime[n]**2*math.cos(2*listphi[n])\n",
        "    part2_e2=listrprime[n]**2*math.sin(2*listphi[n])\n",
        "    part3_e2=listrprime[n]**2\n",
        "    list1_e2.append(part1_e2)\n",
        "    list2_e2.append(part2_e2)\n",
        "    list3_e2.append(part3_e2)\n",
        "  \n",
        "  part1_e2_ave=stat.mean(list1_e2)\n",
        "  part2_e2_ave=stat.mean(list2_e2)\n",
        "  part3_e2_ave=stat.mean(list3_e2)\n",
        "  e2=np.sqrt(part1_e2_ave**2+part2_e2_ave**2)/part3_e2_ave\n",
        "  liste2.append(e2)\n",
        "\n",
        "  #calculate e3\n",
        "  list1=[]\n",
        "  list2=[]\n",
        "  list3=[]\n",
        "  for n in range(Npart):\n",
        "    part1=listrprime[n]**2*math.cos(3*listphi[n])\n",
        "    part2=listrprime[n]**2*math.sin(3*listphi[n])\n",
        "    part3=listrprime[n]**2\n",
        "    list1.append(part1)\n",
        "    list2.append(part2)\n",
        "    list3.append(part3)\n",
        "\n",
        "  part1_ave=stat.mean(list1)\n",
        "  part2_ave=stat.mean(list2)\n",
        "  part3_ave=stat.mean(list3)\n",
        "  e3=np.sqrt(part1_ave**2+part2_ave**2)/part3_ave\n",
        "  liste3.append(e3)"
      ],
      "execution_count": null,
      "outputs": []
    },
    {
      "cell_type": "code",
      "metadata": {
        "id": "uqXYIY58h9jm",
        "colab_type": "code",
        "colab": {}
      },
      "source": [
        "# importing mean() \n",
        "from statistics import mean \n",
        "\n",
        "#define average function which returns the mean value of the list \n",
        "def Average(list): \n",
        "    return mean(list) \n",
        "  \n",
        "#geometric mean is a funciton that plotted the average value of every Number of participants(N_)\n",
        "def geometricmean(x,y):\n",
        "  tuples = list(zip(x,y)) \n",
        "  for i in range (416):\n",
        "    new=[x for (x,y) in tuples if y == i]\n",
        "    if new ==[]:\n",
        "      continue\n",
        "    else:\n",
        "      tuples_new =[i]+[Average(new)]\n",
        "      plt.scatter(tuples_new[0],tuples_new[1],s=10, facecolors='none', edgecolors='r')\n",
        "      plt.xlabel('setx')\n",
        "      plt.ylabel('sety')\n",
        "      plt.title('settitle')"
      ],
      "execution_count": 3,
      "outputs": []
    },
    {
      "cell_type": "code",
      "metadata": {
        "id": "XhH4ixc2iEJ8",
        "colab_type": "code",
        "colab": {}
      },
      "source": [
        "## get e_2_ave list from the geomrtricmean1 function\n",
        "import numpy as np\n",
        "liste2_ave = []\n",
        "#define a fake x axis set \n",
        "x_plot = np.arange(0,416,13)\n",
        "\n",
        "def geometricmean1(x,y):\n",
        "  tuples = list(zip(x,y)) \n",
        "  for i in range (416):\n",
        "    new=[x for (x,y) in tuples if y == i]\n",
        "    if new ==[]:\n",
        "      continue\n",
        "    else:\n",
        "      tuples_new =[i,Average(new)]\n",
        "      liste2_ave.append(tuples_new[1])\n",
        "  n=13\n",
        "  a = [sum(liste2_ave[i:i+n])/n for i in range(0, len(liste2_ave), n)]\n",
        "  return a\n",
        "\n",
        "#get e_2 list \n",
        "e_2_ave = geometricmean1(liste2,listNpart)\n",
        "#get e_3_ave\n",
        "import numpy as np\n",
        "liste3_ave = []\n",
        "#define a fake x axis set \n",
        "x_plot = np.arange(0,416,13)\n",
        "\n",
        "def geometricmean2(x,y):\n",
        "  tuples = list(zip(x,y)) \n",
        "  for i in range (416):\n",
        "    new=[x for (x,y) in tuples if y == i]\n",
        "    if new ==[]:\n",
        "      continue\n",
        "    else:\n",
        "      tuples_new =[i,Average(new)]\n",
        "      liste3_ave.append(tuples_new[1])\n",
        "  n=13\n",
        "  a = [sum(liste3_ave[i:i+n])/n for i in range(0, len(liste3_ave), n)]\n",
        "  return a\n",
        "\n",
        "#get e_2 list \n",
        "e_3_ave = geometricmean2(liste3,listNpart)\n",
        "\n"
      ],
      "execution_count": 4,
      "outputs": []
    },
    {
      "cell_type": "markdown",
      "metadata": {
        "id": "BjPwq9SEFtdq",
        "colab_type": "text"
      },
      "source": [
        "Plot graphs "
      ]
    },
    {
      "cell_type": "code",
      "metadata": {
        "id": "_wXjcdKIPUKS",
        "colab_type": "code",
        "colab": {}
      },
      "source": [
        "err_e2 = []\n",
        "for i in e_2_ave:\n",
        "  err_e2.append(i*0.1)\n",
        "err_e2.sort(reverse = True)\n",
        "\n",
        "err_e3 = []\n",
        "for i in e_2_ave:\n",
        "  err_e3.append(i*0.1)\n",
        "err_e3.sort(reverse = True)\n",
        "\n"
      ],
      "execution_count": 5,
      "outputs": []
    },
    {
      "cell_type": "code",
      "metadata": {
        "id": "PqX7B7ElFyD2",
        "colab_type": "code",
        "colab": {
          "base_uri": "https://localhost:8080/",
          "height": 847
        },
        "outputId": "327340ae-a170-4f07-d04c-120c02add9f8"
      },
      "source": [
        "from matplotlib.colors import LogNorm\n",
        "from pylab import *\n",
        "plt.figure()\n",
        "plt.hist2d(listb, listNpart, bins=80, norm=LogNorm())\n",
        "plt.colorbar()\n",
        "plt.xlabel(\"b(fm)\")\n",
        "plt.ylabel(\"Number of participant\")\n",
        "\n",
        "\n",
        "plt.figure()\n",
        "plt.hist2d(listNpart, liste2, bins=80, norm=LogNorm())\n",
        "plt.colorbar()\n",
        "plt.scatter(x_plot, e_2_ave, label='Average', color='yellow',s=10)\n",
        "plt.errorbar(x_plot,e_2_ave, yerr=err_e2, linestyle='None',color = 'gold')\n",
        "plt.legend()\n",
        "plt.xlabel('$N_{part}$')\n",
        "plt.ylabel('$\\epsilon_2$')\n",
        "plt.title('$\\epsilon_2$ versus $N_{part}$')\n",
        "plt.ylim(0,1)\n",
        "\n",
        "\n",
        "plt.figure()\n",
        "plt.hist2d(listNpart, liste3, bins=80, label='data',norm=LogNorm())\n",
        "plt.colorbar()\n",
        "plt.scatter(x_plot, e_3_ave, label='Average', color='yellow',s=10)\n",
        "plt.errorbar(x_plot,e_3_ave, yerr=err_e3, linestyle='None',color = 'gold')\n",
        "plt.legend()\n",
        "\n",
        "plt.xlabel('$N_{part}$')\n",
        "plt.ylabel('$\\epsilon_3$')\n",
        "plt.title('$\\epsilon_3$ versus $N_{part}$ ')\n",
        "plt.ylim(0,1)\n",
        "\n",
        "#adding error bars\n",
        "plt.show()"
      ],
      "execution_count": 6,
      "outputs": [
        {
          "output_type": "display_data",
          "data": {
            "image/png": "[encoded data removed]",
            "text/plain": [
              "<Figure size 432x288 with 2 Axes>"
            ]
          },
          "metadata": {
            "tags": [],
            "needs_background": "light"
          }
        },
        {
          "output_type": "display_data",
          "data": {
            "image/png": "[encoded data removed]",
            "text/plain": [
              "<Figure size 432x288 with 2 Axes>"
            ]
          },
          "metadata": {
            "tags": [],
            "needs_background": "light"
          }
        },
        {
          "output_type": "display_data",
          "data": {
            "image/png": "[encoded data removed]",
            "text/plain": [
              "<Figure size 432x288 with 2 Axes>"
            ]
          },
          "metadata": {
            "tags": [],
            "needs_background": "light"
          }
        }
      ]
    },
    {
      "cell_type": "code",
      "metadata": {
        "id": "uzrRliS0OiOY",
        "colab_type": "code",
        "colab": {}
      },
      "source": [
        ""
      ],
      "execution_count": null,
      "outputs": []
    }
  ]
}